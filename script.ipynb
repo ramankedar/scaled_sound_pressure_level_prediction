{
 "cells": [
  {
   "cell_type": "markdown",
   "id": "105aab57-a75e-4c04-8e42-884139533cb4",
   "metadata": {},
   "source": [
    "#### Scaled sound pressure level in decibels"
   ]
  },
  {
   "cell_type": "code",
   "execution_count": 1,
   "id": "0db80009-f7ea-4578-860e-df84e7ecb50e",
   "metadata": {},
   "outputs": [],
   "source": [
    "# importing required libraries:\n",
    "import pandas as pd  \n",
    "import numpy as np  \n",
    "import matplotlib.pyplot as plt  \n",
    "%matplotlib inline \n",
    "\n",
    "from pandas.plotting import scatter_matrix \n",
    "from sklearn.model_selection import train_test_split \n",
    "from sklearn.linear_model import LinearRegression \n",
    "from sklearn.metrics import mean_absolute_error"
   ]
  },
  {
   "cell_type": "code",
   "execution_count": 2,
   "id": "8e016589-bfe9-49fc-b989-4e4f2872ea5a",
   "metadata": {},
   "outputs": [
    {
     "data": {
      "text/html": [
       "<div>\n",
       "<style scoped>\n",
       "    .dataframe tbody tr th:only-of-type {\n",
       "        vertical-align: middle;\n",
       "    }\n",
       "\n",
       "    .dataframe tbody tr th {\n",
       "        vertical-align: top;\n",
       "    }\n",
       "\n",
       "    .dataframe thead th {\n",
       "        text-align: right;\n",
       "    }\n",
       "</style>\n",
       "<table border=\"1\" class=\"dataframe\">\n",
       "  <thead>\n",
       "    <tr style=\"text-align: right;\">\n",
       "      <th></th>\n",
       "      <th>frequency</th>\n",
       "      <th>angle</th>\n",
       "      <th>chord_length</th>\n",
       "      <th>free_stream_velocity</th>\n",
       "      <th>ss_dis_thickness</th>\n",
       "      <th>scaled_sound_press_lvl</th>\n",
       "    </tr>\n",
       "  </thead>\n",
       "  <tbody>\n",
       "    <tr>\n",
       "      <th>0</th>\n",
       "      <td>1000</td>\n",
       "      <td>0.0</td>\n",
       "      <td>0.3048</td>\n",
       "      <td>71.3</td>\n",
       "      <td>0.002663</td>\n",
       "      <td>125.201</td>\n",
       "    </tr>\n",
       "    <tr>\n",
       "      <th>1</th>\n",
       "      <td>1250</td>\n",
       "      <td>0.0</td>\n",
       "      <td>0.3048</td>\n",
       "      <td>71.3</td>\n",
       "      <td>0.002663</td>\n",
       "      <td>125.951</td>\n",
       "    </tr>\n",
       "    <tr>\n",
       "      <th>2</th>\n",
       "      <td>1600</td>\n",
       "      <td>0.0</td>\n",
       "      <td>0.3048</td>\n",
       "      <td>71.3</td>\n",
       "      <td>0.002663</td>\n",
       "      <td>127.591</td>\n",
       "    </tr>\n",
       "  </tbody>\n",
       "</table>\n",
       "</div>"
      ],
      "text/plain": [
       "   frequency  angle  chord_length  free_stream_velocity  ss_dis_thickness  \\\n",
       "0       1000    0.0        0.3048                  71.3          0.002663   \n",
       "1       1250    0.0        0.3048                  71.3          0.002663   \n",
       "2       1600    0.0        0.3048                  71.3          0.002663   \n",
       "\n",
       "   scaled_sound_press_lvl  \n",
       "0                 125.201  \n",
       "1                 125.951  \n",
       "2                 127.591  "
      ]
     },
     "execution_count": 2,
     "metadata": {},
     "output_type": "execute_result"
    }
   ],
   "source": [
    "# loading the data:\n",
    "data = pd.read_excel('dataset.xlsx')\n",
    "data.columns = ['frequency', 'angle', 'chord_length', 'free_stream_velocity', 'ss_dis_thickness', 'scaled_sound_press_lvl']\n",
    "data.head(3)"
   ]
  },
  {
   "cell_type": "code",
   "execution_count": 3,
   "id": "2ba9affd-8fd2-45bb-8417-b87e3b5f4d9c",
   "metadata": {},
   "outputs": [
    {
     "data": {
      "text/plain": [
       "9012"
      ]
     },
     "execution_count": 3,
     "metadata": {},
     "output_type": "execute_result"
    }
   ],
   "source": [
    "data.size"
   ]
  },
  {
   "cell_type": "code",
   "execution_count": 4,
   "id": "0a115d53-eaaa-4534-ab6a-feea4bc5ecfb",
   "metadata": {},
   "outputs": [
    {
     "name": "stdout",
     "output_type": "stream",
     "text": [
      "<class 'pandas.core.frame.DataFrame'>\n",
      "RangeIndex: 1502 entries, 0 to 1501\n",
      "Data columns (total 6 columns):\n",
      " #   Column                  Non-Null Count  Dtype  \n",
      "---  ------                  --------------  -----  \n",
      " 0   frequency               1502 non-null   int64  \n",
      " 1   angle                   1502 non-null   float64\n",
      " 2   chord_length            1502 non-null   float64\n",
      " 3   free_stream_velocity    1502 non-null   float64\n",
      " 4   ss_dis_thickness        1502 non-null   float64\n",
      " 5   scaled_sound_press_lvl  1502 non-null   float64\n",
      "dtypes: float64(5), int64(1)\n",
      "memory usage: 70.5 KB\n"
     ]
    }
   ],
   "source": [
    "data.info()"
   ]
  },
  {
   "cell_type": "code",
   "execution_count": 5,
   "id": "320eac9c-6785-430f-8810-564bdcd5b196",
   "metadata": {},
   "outputs": [
    {
     "data": {
      "text/html": [
       "<div>\n",
       "<style scoped>\n",
       "    .dataframe tbody tr th:only-of-type {\n",
       "        vertical-align: middle;\n",
       "    }\n",
       "\n",
       "    .dataframe tbody tr th {\n",
       "        vertical-align: top;\n",
       "    }\n",
       "\n",
       "    .dataframe thead th {\n",
       "        text-align: right;\n",
       "    }\n",
       "</style>\n",
       "<table border=\"1\" class=\"dataframe\">\n",
       "  <thead>\n",
       "    <tr style=\"text-align: right;\">\n",
       "      <th></th>\n",
       "      <th>frequency</th>\n",
       "      <th>angle</th>\n",
       "      <th>chord_length</th>\n",
       "      <th>free_stream_velocity</th>\n",
       "      <th>ss_dis_thickness</th>\n",
       "      <th>scaled_sound_press_lvl</th>\n",
       "    </tr>\n",
       "  </thead>\n",
       "  <tbody>\n",
       "    <tr>\n",
       "      <th>count</th>\n",
       "      <td>1502.000000</td>\n",
       "      <td>1502.000000</td>\n",
       "      <td>1502.000000</td>\n",
       "      <td>1502.000000</td>\n",
       "      <td>1502.000000</td>\n",
       "      <td>1502.000000</td>\n",
       "    </tr>\n",
       "    <tr>\n",
       "      <th>mean</th>\n",
       "      <td>2887.769640</td>\n",
       "      <td>6.786818</td>\n",
       "      <td>0.136436</td>\n",
       "      <td>50.847137</td>\n",
       "      <td>0.011146</td>\n",
       "      <td>124.835034</td>\n",
       "    </tr>\n",
       "    <tr>\n",
       "      <th>std</th>\n",
       "      <td>3153.162983</td>\n",
       "      <td>5.917509</td>\n",
       "      <td>0.093471</td>\n",
       "      <td>15.569029</td>\n",
       "      <td>0.013153</td>\n",
       "      <td>6.900864</td>\n",
       "    </tr>\n",
       "    <tr>\n",
       "      <th>min</th>\n",
       "      <td>200.000000</td>\n",
       "      <td>0.000000</td>\n",
       "      <td>0.025400</td>\n",
       "      <td>31.700000</td>\n",
       "      <td>0.000401</td>\n",
       "      <td>103.380000</td>\n",
       "    </tr>\n",
       "    <tr>\n",
       "      <th>25%</th>\n",
       "      <td>800.000000</td>\n",
       "      <td>2.000000</td>\n",
       "      <td>0.050800</td>\n",
       "      <td>39.600000</td>\n",
       "      <td>0.002535</td>\n",
       "      <td>120.190000</td>\n",
       "    </tr>\n",
       "    <tr>\n",
       "      <th>50%</th>\n",
       "      <td>1600.000000</td>\n",
       "      <td>5.400000</td>\n",
       "      <td>0.101600</td>\n",
       "      <td>39.600000</td>\n",
       "      <td>0.004957</td>\n",
       "      <td>125.719000</td>\n",
       "    </tr>\n",
       "    <tr>\n",
       "      <th>75%</th>\n",
       "      <td>4000.000000</td>\n",
       "      <td>9.900000</td>\n",
       "      <td>0.228600</td>\n",
       "      <td>71.300000</td>\n",
       "      <td>0.015840</td>\n",
       "      <td>129.997750</td>\n",
       "    </tr>\n",
       "    <tr>\n",
       "      <th>max</th>\n",
       "      <td>20000.000000</td>\n",
       "      <td>22.200000</td>\n",
       "      <td>0.304800</td>\n",
       "      <td>71.300000</td>\n",
       "      <td>0.058411</td>\n",
       "      <td>140.987000</td>\n",
       "    </tr>\n",
       "  </tbody>\n",
       "</table>\n",
       "</div>"
      ],
      "text/plain": [
       "          frequency        angle  chord_length  free_stream_velocity  \\\n",
       "count   1502.000000  1502.000000   1502.000000           1502.000000   \n",
       "mean    2887.769640     6.786818      0.136436             50.847137   \n",
       "std     3153.162983     5.917509      0.093471             15.569029   \n",
       "min      200.000000     0.000000      0.025400             31.700000   \n",
       "25%      800.000000     2.000000      0.050800             39.600000   \n",
       "50%     1600.000000     5.400000      0.101600             39.600000   \n",
       "75%     4000.000000     9.900000      0.228600             71.300000   \n",
       "max    20000.000000    22.200000      0.304800             71.300000   \n",
       "\n",
       "       ss_dis_thickness  scaled_sound_press_lvl  \n",
       "count       1502.000000             1502.000000  \n",
       "mean           0.011146              124.835034  \n",
       "std            0.013153                6.900864  \n",
       "min            0.000401              103.380000  \n",
       "25%            0.002535              120.190000  \n",
       "50%            0.004957              125.719000  \n",
       "75%            0.015840              129.997750  \n",
       "max            0.058411              140.987000  "
      ]
     },
     "execution_count": 5,
     "metadata": {},
     "output_type": "execute_result"
    }
   ],
   "source": [
    "data.describe()"
   ]
  },
  {
   "cell_type": "code",
   "execution_count": 6,
   "id": "d6cd5876-45bc-450d-bd8b-7e89726d07dd",
   "metadata": {},
   "outputs": [
    {
     "data": {
      "text/plain": [
       "frequency                 0\n",
       "angle                     0\n",
       "chord_length              0\n",
       "free_stream_velocity      0\n",
       "ss_dis_thickness          0\n",
       "scaled_sound_press_lvl    0\n",
       "dtype: int64"
      ]
     },
     "execution_count": 6,
     "metadata": {},
     "output_type": "execute_result"
    }
   ],
   "source": [
    "# looking for NaN values:\n",
    "data.isnull().sum()"
   ]
  },
  {
   "cell_type": "code",
   "execution_count": 7,
   "id": "c8a13a45-b06d-4f84-9668-2e98021439f9",
   "metadata": {},
   "outputs": [
    {
     "data": {
      "text/plain": [
       "array([[<AxesSubplot:title={'center':'frequency'}>,\n",
       "        <AxesSubplot:title={'center':'angle'}>],\n",
       "       [<AxesSubplot:title={'center':'chord_length'}>,\n",
       "        <AxesSubplot:title={'center':'free_stream_velocity'}>],\n",
       "       [<AxesSubplot:title={'center':'ss_dis_thickness'}>,\n",
       "        <AxesSubplot:title={'center':'scaled_sound_press_lvl'}>]],\n",
       "      dtype=object)"
      ]
     },
     "execution_count": 7,
     "metadata": {},
     "output_type": "execute_result"
    },
    {
     "data": {
      "image/png": "[encoded data removed]",
      "text/plain": [
       "<Figure size 432x288 with 6 Axes>"
      ]
     },
     "metadata": {
      "needs_background": "light"
     },
     "output_type": "display_data"
    }
   ],
   "source": [
    "# relation between features:\n",
    "data.hist()"
   ]
  },
  {
   "cell_type": "code",
   "execution_count": 8,
   "id": "e442b08f-5c22-4769-a6c9-e2b11d59eadd",
   "metadata": {},
   "outputs": [
    {
     "data": {
      "text/plain": [
       "scaled_sound_press_lvl    1.000000\n",
       "free_stream_velocity      0.125003\n",
       "angle                    -0.156027\n",
       "chord_length             -0.236657\n",
       "ss_dis_thickness         -0.312632\n",
       "frequency                -0.390686\n",
       "Name: scaled_sound_press_lvl, dtype: float64"
      ]
     },
     "execution_count": 8,
     "metadata": {},
     "output_type": "execute_result"
    }
   ],
   "source": [
    "# correlation matrix:\n",
    "corr_matrix = data.corr()\n",
    "corr_matrix['scaled_sound_press_lvl'].sort_values(ascending = False)"
   ]
  },
  {
   "cell_type": "code",
   "execution_count": 9,
   "id": "04a7bef9-f372-4977-8b47-b5bbe550046c",
   "metadata": {},
   "outputs": [],
   "source": [
    "# dividing data:\n",
    "X = data[['frequency', 'angle', 'chord_length', 'free_stream_velocity', 'ss_dis_thickness']]\n",
    "Y = data['scaled_sound_press_lvl']"
   ]
  },
  {
   "cell_type": "code",
   "execution_count": 10,
   "id": "26b76bf8-4581-4ce3-be0d-38c422180a91",
   "metadata": {},
   "outputs": [],
   "source": [
    "# splitting into training and testing dataset with test_size = 0.1\n",
    "X_train, X_test, Y_train, Y_test = train_test_split(X, Y, test_size = 0.1, random_state = 0)"
   ]
  },
  {
   "cell_type": "code",
   "execution_count": 11,
   "id": "232f64df-a4d9-40f1-970d-b19de5d21f44",
   "metadata": {},
   "outputs": [],
   "source": [
    "# creating a linear regression model:\n",
    "lr = LinearRegression()"
   ]
  },
  {
   "cell_type": "code",
   "execution_count": 12,
   "id": "5a63cdbe-39e7-4855-b459-3a728c0d6482",
   "metadata": {},
   "outputs": [
    {
     "data": {
      "text/html": [
       "<style>#sk-container-id-1 {color: black;background-color: white;}#sk-container-id-1 pre{padding: 0;}#sk-container-id-1 div.sk-toggleable {background-color: white;}#sk-container-id-1 label.sk-toggleable__label {cursor: pointer;display: block;width: 100%;margin-bottom: 0;padding: 0.3em;box-sizing: border-box;text-align: center;}#sk-container-id-1 label.sk-toggleable__label-arrow:before {content: \"▸\";float: left;margin-right: 0.25em;color: #696969;}#sk-container-id-1 label.sk-toggleable__label-arrow:hover:before {color: black;}#sk-container-id-1 div.sk-estimator:hover label.sk-toggleable__label-arrow:before {color: black;}#sk-container-id-1 div.sk-toggleable__content {max-height: 0;max-width: 0;overflow: hidden;text-align: left;background-color: #f0f8ff;}#sk-container-id-1 div.sk-toggleable__content pre {margin: 0.2em;color: black;border-radius: 0.25em;background-color: #f0f8ff;}#sk-container-id-1 input.sk-toggleable__control:checked~div.sk-toggleable__content {max-height: 200px;max-width: 100%;overflow: auto;}#sk-container-id-1 input.sk-toggleable__control:checked~label.sk-toggleable__label-arrow:before {content: \"▾\";}#sk-container-id-1 div.sk-estimator input.sk-toggleable__control:checked~label.sk-toggleable__label {background-color: #d4ebff;}#sk-container-id-1 div.sk-label input.sk-toggleable__control:checked~label.sk-toggleable__label {background-color: #d4ebff;}#sk-container-id-1 input.sk-hidden--visually {border: 0;clip: rect(1px 1px 1px 1px);clip: rect(1px, 1px, 1px, 1px);height: 1px;margin: -1px;overflow: hidden;padding: 0;position: absolute;width: 1px;}#sk-container-id-1 div.sk-estimator {font-family: monospace;background-color: #f0f8ff;border: 1px dotted black;border-radius: 0.25em;box-sizing: border-box;margin-bottom: 0.5em;}#sk-container-id-1 div.sk-estimator:hover {background-color: #d4ebff;}#sk-container-id-1 div.sk-parallel-item::after {content: \"\";width: 100%;border-bottom: 1px solid gray;flex-grow: 1;}#sk-container-id-1 div.sk-label:hover label.sk-toggleable__label {background-color: #d4ebff;}#sk-container-id-1 div.sk-serial::before {content: \"\";position: absolute;border-left: 1px solid gray;box-sizing: border-box;top: 0;bottom: 0;left: 50%;z-index: 0;}#sk-container-id-1 div.sk-serial {display: flex;flex-direction: column;align-items: center;background-color: white;padding-right: 0.2em;padding-left: 0.2em;position: relative;}#sk-container-id-1 div.sk-item {position: relative;z-index: 1;}#sk-container-id-1 div.sk-parallel {display: flex;align-items: stretch;justify-content: center;background-color: white;position: relative;}#sk-container-id-1 div.sk-item::before, #sk-container-id-1 div.sk-parallel-item::before {content: \"\";position: absolute;border-left: 1px solid gray;box-sizing: border-box;top: 0;bottom: 0;left: 50%;z-index: -1;}#sk-container-id-1 div.sk-parallel-item {display: flex;flex-direction: column;z-index: 1;position: relative;background-color: white;}#sk-container-id-1 div.sk-parallel-item:first-child::after {align-self: flex-end;width: 50%;}#sk-container-id-1 div.sk-parallel-item:last-child::after {align-self: flex-start;width: 50%;}#sk-container-id-1 div.sk-parallel-item:only-child::after {width: 0;}#sk-container-id-1 div.sk-dashed-wrapped {border: 1px dashed gray;margin: 0 0.4em 0.5em 0.4em;box-sizing: border-box;padding-bottom: 0.4em;background-color: white;}#sk-container-id-1 div.sk-label label {font-family: monospace;font-weight: bold;display: inline-block;line-height: 1.2em;}#sk-container-id-1 div.sk-label-container {text-align: center;}#sk-container-id-1 div.sk-container {/* jupyter's `normalize.less` sets `[hidden] { display: none; }` but bootstrap.min.css set `[hidden] { display: none !important; }` so we also need the `!important` here to be able to override the default hidden behavior on the sphinx rendered scikit-learn.org. See: https://github.com/scikit-learn/scikit-learn/issues/21755 */display: inline-block !important;position: relative;}#sk-container-id-1 div.sk-text-repr-fallback {display: none;}</style><div id=\"sk-container-id-1\" class=\"sk-top-container\"><div class=\"sk-text-repr-fallback\"><pre>LinearRegression()</pre><b>In a Jupyter environment, please rerun this cell to show the HTML representation or trust the notebook. <br />On GitHub, the HTML representation is unable to render, please try loading this page with nbviewer.org.</b></div><div class=\"sk-container\" hidden><div class=\"sk-item\"><div class=\"sk-estimator sk-toggleable\"><input class=\"sk-toggleable__control sk-hidden--visually\" id=\"sk-estimator-id-1\" type=\"checkbox\" checked><label for=\"sk-estimator-id-1\" class=\"sk-toggleable__label sk-toggleable__label-arrow\">LinearRegression</label><div class=\"sk-toggleable__content\"><pre>LinearRegression()</pre></div></div></div></div></div>"
      ],
      "text/plain": [
       "LinearRegression()"
      ]
     },
     "execution_count": 12,
     "metadata": {},
     "output_type": "execute_result"
    }
   ],
   "source": [
    "# fitting the training dataset into model:\n",
    "lr.fit(X_train, Y_train)"
   ]
  },
  {
   "cell_type": "code",
   "execution_count": 13,
   "id": "2de6de55-937f-4ec9-ac07-d58bc2aa4f78",
   "metadata": {},
   "outputs": [],
   "source": [
    "# predicting the results on testing dataset:\n",
    "predictions = lr.predict(X_test)"
   ]
  },
  {
   "cell_type": "code",
   "execution_count": 14,
   "id": "91d216b8-18b7-4acf-ac5e-9d147d3dcfcc",
   "metadata": {},
   "outputs": [
    {
     "name": "stdout",
     "output_type": "stream",
     "text": [
      "Mean Absolute Error:  3.71\n"
     ]
    }
   ],
   "source": [
    "# calculating mean absolute error\n",
    "mae = mean_absolute_error(predictions, Y_test)\n",
    "print(\"Mean Absolute Error: \" , round(mae, 2))"
   ]
  },
  {
   "cell_type": "code",
   "execution_count": 15,
   "id": "56893e8f-3b2f-4a0b-b230-782c15fd00ea",
   "metadata": {},
   "outputs": [
    {
     "data": {
      "text/html": [
       "<div>\n",
       "<style scoped>\n",
       "    .dataframe tbody tr th:only-of-type {\n",
       "        vertical-align: middle;\n",
       "    }\n",
       "\n",
       "    .dataframe tbody tr th {\n",
       "        vertical-align: top;\n",
       "    }\n",
       "\n",
       "    .dataframe thead th {\n",
       "        text-align: right;\n",
       "    }\n",
       "</style>\n",
       "<table border=\"1\" class=\"dataframe\">\n",
       "  <thead>\n",
       "    <tr style=\"text-align: right;\">\n",
       "      <th></th>\n",
       "      <th>Default</th>\n",
       "      <th>Predicted</th>\n",
       "    </tr>\n",
       "  </thead>\n",
       "  <tbody>\n",
       "    <tr>\n",
       "      <th>1218</th>\n",
       "      <td>126.097</td>\n",
       "      <td>123.131061</td>\n",
       "    </tr>\n",
       "    <tr>\n",
       "      <th>9</th>\n",
       "      <td>117.151</td>\n",
       "      <td>118.281104</td>\n",
       "    </tr>\n",
       "    <tr>\n",
       "      <th>1411</th>\n",
       "      <td>139.428</td>\n",
       "      <td>125.501527</td>\n",
       "    </tr>\n",
       "    <tr>\n",
       "      <th>1079</th>\n",
       "      <td>124.222</td>\n",
       "      <td>124.671855</td>\n",
       "    </tr>\n",
       "    <tr>\n",
       "      <th>901</th>\n",
       "      <td>121.783</td>\n",
       "      <td>124.033402</td>\n",
       "    </tr>\n",
       "    <tr>\n",
       "      <th>202</th>\n",
       "      <td>123.780</td>\n",
       "      <td>129.215046</td>\n",
       "    </tr>\n",
       "    <tr>\n",
       "      <th>122</th>\n",
       "      <td>117.309</td>\n",
       "      <td>119.073992</td>\n",
       "    </tr>\n",
       "    <tr>\n",
       "      <th>983</th>\n",
       "      <td>130.026</td>\n",
       "      <td>133.319898</td>\n",
       "    </tr>\n",
       "    <tr>\n",
       "      <th>687</th>\n",
       "      <td>114.729</td>\n",
       "      <td>119.458791</td>\n",
       "    </tr>\n",
       "    <tr>\n",
       "      <th>506</th>\n",
       "      <td>123.807</td>\n",
       "      <td>125.184898</td>\n",
       "    </tr>\n",
       "  </tbody>\n",
       "</table>\n",
       "</div>"
      ],
      "text/plain": [
       "      Default   Predicted\n",
       "1218  126.097  123.131061\n",
       "9     117.151  118.281104\n",
       "1411  139.428  125.501527\n",
       "1079  124.222  124.671855\n",
       "901   121.783  124.033402\n",
       "202   123.780  129.215046\n",
       "122   117.309  119.073992\n",
       "983   130.026  133.319898\n",
       "687   114.729  119.458791\n",
       "506   123.807  125.184898"
      ]
     },
     "execution_count": 15,
     "metadata": {},
     "output_type": "execute_result"
    }
   ],
   "source": [
    "# comparing original and predicted values:\n",
    "comparison = pd.DataFrame({'Default': Y_test, 'Predicted': predictions})\n",
    "comparison.head(10)"
   ]
  },
  {
   "cell_type": "code",
   "execution_count": null,
   "id": "007651ca-cec4-48cd-81d7-712e96a2993c",
   "metadata": {},
   "outputs": [],
   "source": []
  }
 ],
 "metadata": {
  "kernelspec": {
   "display_name": "Python 3 (ipykernel)",
   "language": "python",
   "name": "python3"
  },
  "language_info": {
   "codemirror_mode": {
    "name": "ipython",
    "version": 3
   },
   "file_extension": ".py",
   "mimetype": "text/x-python",
   "name": "python",
   "nbconvert_exporter": "python",
   "pygments_lexer": "ipython3",
   "version": "3.10.7"
  },
  "widgets": {
   "application/vnd.jupyter.widget-state+json": {
    "state": {},
    "version_major": 2,
    "version_minor": 0
   }
  }
 },
 "nbformat": 4,
 "nbformat_minor": 5
}
